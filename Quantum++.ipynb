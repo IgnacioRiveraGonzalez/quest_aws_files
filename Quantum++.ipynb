{
 "cells": [
  {
   "cell_type": "code",
   "execution_count": 1,
   "id": "a264915a-9d50-4aab-85f0-bc4569a699a2",
   "metadata": {},
   "outputs": [
    {
     "name": "stdout",
     "output_type": "stream",
     "text": [
      "Reading package lists... Done\n",
      "Building dependency tree       \n",
      "Reading state information... Done\n",
      "libeigen3-dev is already the newest version (3.3.7-2).\n",
      "0 upgraded, 0 newly installed, 0 to remove and 11 not upgraded.\n"
     ]
    }
   ],
   "source": [
    "# Instalamos Eigen 3\n",
    "!sudo apt install libeigen3-dev -y"
   ]
  },
  {
   "cell_type": "code",
   "execution_count": 3,
   "id": "de103a1e-6ae9-4446-9d88-9769983e5fb8",
   "metadata": {},
   "outputs": [
    {
     "name": "stdout",
     "output_type": "stream",
     "text": [
      "Cloning into 'qpp'...\n",
      "remote: Enumerating objects: 95391, done.\u001b[K\n",
      "remote: Counting objects: 100% (2162/2162), done.\u001b[K\n",
      "remote: Compressing objects: 100% (1267/1267), done.\u001b[K\n",
      "remote: Total 95391 (delta 1127), reused 1821 (delta 823), pack-reused 93229\u001b[K\n",
      "Receiving objects: 100% (95391/95391), 280.19 MiB | 16.84 MiB/s, done.\n",
      "Resolving deltas: 100% (85478/85478), done.\n"
     ]
    }
   ],
   "source": [
    "!git clone https://github.com/softwareQinc/qpp.git"
   ]
  },
  {
   "cell_type": "code",
   "execution_count": 17,
   "id": "ebbae346-0fa1-4295-8c49-5042b6e9d700",
   "metadata": {},
   "outputs": [
    {
     "name": "stdout",
     "output_type": "stream",
     "text": [
      "/home/ubuntu/qpp/build\n"
     ]
    }
   ],
   "source": [
    "%cd /home/ubuntu/qpp/build"
   ]
  },
  {
   "cell_type": "code",
   "execution_count": 5,
   "id": "5de98ca7-6eb1-4b7c-91cd-4ae90a6dd9df",
   "metadata": {},
   "outputs": [
    {
     "name": "stdout",
     "output_type": "stream",
     "text": [
      "/home/ubuntu/qpp/build\n"
     ]
    },
    {
     "data": {
      "text/plain": [
       "'/home/ubuntu/qpp/build'"
      ]
     },
     "execution_count": 5,
     "metadata": {},
     "output_type": "execute_result"
    }
   ],
   "source": [
    "!mkdir build\n",
    "%cd /home/ubuntu/qpp/build\n",
    "%pwd"
   ]
  },
  {
   "cell_type": "code",
   "execution_count": 19,
   "id": "8036cafe-4fc5-48ff-9132-2723ab0b5f91",
   "metadata": {},
   "outputs": [
    {
     "name": "stdout",
     "output_type": "stream",
     "text": [
      "-- Configuring done\n",
      "-- Generating done\n",
      "-- Build files have been written to: /home/ubuntu/qpp/build\n"
     ]
    }
   ],
   "source": [
    "!cmake .. -DWITH_OPENMP=ON"
   ]
  },
  {
   "cell_type": "code",
   "execution_count": 20,
   "id": "50fdb401-8aed-4c19-8f68-4cc0ebe92bcd",
   "metadata": {},
   "outputs": [
    {
     "name": "stdout",
     "output_type": "stream",
     "text": [
      "\u001b[36mInstall the project...\u001b[0m\n",
      "-- Install configuration: \"\"\n",
      "-- Up-to-date: /usr/local/include/qpp\n",
      "-- Up-to-date: /usr/local/include/qpp/functions.hpp\n",
      "-- Up-to-date: /usr/local/include/qpp/qasm\n",
      "-- Up-to-date: /usr/local/include/qpp/qasm/qasm.hpp\n",
      "-- Up-to-date: /usr/local/include/qpp/operations.hpp\n",
      "-- Up-to-date: /usr/local/include/qpp/classes\n",
      "-- Up-to-date: /usr/local/include/qpp/classes/noise.hpp\n",
      "-- Up-to-date: /usr/local/include/qpp/classes/gates.hpp\n",
      "-- Up-to-date: /usr/local/include/qpp/classes/exception.hpp\n",
      "-- Up-to-date: /usr/local/include/qpp/classes/circuits\n",
      "-- Up-to-date: /usr/local/include/qpp/classes/circuits/engines.hpp\n",
      "-- Up-to-date: /usr/local/include/qpp/classes/circuits/circuits.hpp\n",
      "-- Up-to-date: /usr/local/include/qpp/classes/reversible.hpp\n",
      "-- Up-to-date: /usr/local/include/qpp/classes/idisplay.hpp\n",
      "-- Up-to-date: /usr/local/include/qpp/classes/layouts.hpp\n",
      "-- Up-to-date: /usr/local/include/qpp/classes/codes.hpp\n",
      "-- Up-to-date: /usr/local/include/qpp/classes/init.hpp\n",
      "-- Up-to-date: /usr/local/include/qpp/classes/random_devices.hpp\n",
      "-- Up-to-date: /usr/local/include/qpp/classes/timer.hpp\n",
      "-- Up-to-date: /usr/local/include/qpp/classes/states.hpp\n",
      "-- Up-to-date: /usr/local/include/qpp/constants.hpp\n",
      "-- Up-to-date: /usr/local/include/qpp/instruments.hpp\n",
      "-- Up-to-date: /usr/local/include/qpp/statistics.hpp\n",
      "-- Up-to-date: /usr/local/include/qpp/MATLAB\n",
      "-- Up-to-date: /usr/local/include/qpp/MATLAB/matlab.hpp\n",
      "-- Up-to-date: /usr/local/include/qpp/entanglement.hpp\n",
      "-- Up-to-date: /usr/local/include/qpp/random.hpp\n",
      "-- Up-to-date: /usr/local/include/qpp/internal\n",
      "-- Up-to-date: /usr/local/include/qpp/internal/classes\n",
      "-- Up-to-date: /usr/local/include/qpp/internal/classes/singleton.hpp\n",
      "-- Up-to-date: /usr/local/include/qpp/internal/classes/iomanip.hpp\n",
      "-- Up-to-date: /usr/local/include/qpp/internal/util.hpp\n",
      "-- Up-to-date: /usr/local/include/qpp/number_theory.hpp\n",
      "-- Up-to-date: /usr/local/include/qpp/input_output.hpp\n",
      "-- Up-to-date: /usr/local/include/qpp/entropies.hpp\n",
      "-- Up-to-date: /usr/local/include/qpp/experimental\n",
      "-- Up-to-date: /usr/local/include/qpp/experimental/experimental.hpp\n",
      "-- Up-to-date: /usr/local/include/qpp/traits.hpp\n",
      "-- Up-to-date: /usr/local/include/qpp/types.hpp\n",
      "-- Installing: /usr/local/include/qpp/qpp.h\n",
      "-- Installing: /usr/local/include/qpp/.ipynb_checkpoints\n",
      "-- Installing: /usr/local/include/qpp/.ipynb_checkpoints/qpp-checkpoint.h\n",
      "-- Up-to-date: /usr/local/include/qpp\n",
      "-- Up-to-date: /usr/local/include/qpp/qasmtools\n",
      "-- Up-to-date: /usr/local/include/qpp/qasmtools/parser\n",
      "-- Up-to-date: /usr/local/include/qpp/qasmtools/parser/position.hpp\n",
      "-- Up-to-date: /usr/local/include/qpp/qasmtools/parser/token.hpp\n",
      "-- Up-to-date: /usr/local/include/qpp/qasmtools/parser/parser.hpp\n",
      "-- Up-to-date: /usr/local/include/qpp/qasmtools/parser/preprocessor.hpp\n",
      "-- Up-to-date: /usr/local/include/qpp/qasmtools/parser/lexer.hpp\n",
      "-- Up-to-date: /usr/local/include/qpp/qasmtools/tools\n",
      "-- Up-to-date: /usr/local/include/qpp/qasmtools/tools/ast_printer.hpp\n",
      "-- Up-to-date: /usr/local/include/qpp/qasmtools/ast\n",
      "-- Up-to-date: /usr/local/include/qpp/qasmtools/ast/program.hpp\n",
      "-- Up-to-date: /usr/local/include/qpp/qasmtools/ast/visitor.hpp\n",
      "-- Up-to-date: /usr/local/include/qpp/qasmtools/ast/expr.hpp\n",
      "-- Up-to-date: /usr/local/include/qpp/qasmtools/ast/replacer.hpp\n",
      "-- Up-to-date: /usr/local/include/qpp/qasmtools/ast/stmt.hpp\n",
      "-- Up-to-date: /usr/local/include/qpp/qasmtools/ast/traversal.hpp\n",
      "-- Up-to-date: /usr/local/include/qpp/qasmtools/ast/base.hpp\n",
      "-- Up-to-date: /usr/local/include/qpp/qasmtools/ast/ast.hpp\n",
      "-- Up-to-date: /usr/local/include/qpp/qasmtools/ast/decl.hpp\n",
      "-- Up-to-date: /usr/local/include/qpp/qasmtools/ast/cloneable.hpp\n",
      "-- Up-to-date: /usr/local/include/qpp/qasmtools/ast/semantic.hpp\n",
      "-- Up-to-date: /usr/local/include/qpp/qasmtools/ast/var.hpp\n",
      "-- Up-to-date: /usr/local/include/qpp/qasmtools/utils\n",
      "-- Up-to-date: /usr/local/include/qpp/qasmtools/utils/templates.hpp\n",
      "-- Up-to-date: /usr/local/include/qpp/qasmtools/utils/angle.hpp\n",
      "-- Up-to-date: /usr/local/lib/cmake/qpp/qpp_targets.cmake\n",
      "-- Up-to-date: /usr/local/lib/cmake/qpp/qppConfig.cmake\n",
      "-- Up-to-date: /usr/local/lib/cmake/qpp/qpp_dependencies.cmake\n"
     ]
    }
   ],
   "source": [
    "!sudo make install "
   ]
  },
  {
   "cell_type": "code",
   "execution_count": 22,
   "id": "10d8152e-18c9-46fb-acec-b7ce63353dbc",
   "metadata": {},
   "outputs": [
    {
     "name": "stdout",
     "output_type": "stream",
     "text": [
      "/home/ubuntu/qpp/examples\n",
      ">> Grover on n = 14 qubits\n",
      ">> Database size: 16384\n",
      ">> Marked state: 620 -> [0 0 0 0 1 0 0 1 1 0 1 1 0 0]\n",
      "terminate called after throwing an instance of 'std::bad_alloc'\n",
      "  what():  std::bad_alloc\n"
     ]
    }
   ],
   "source": [
    "%cd /home/ubuntu/qpp/examples\n",
    "!c++ -pedantic -std=c++17 -Wall -Wextra -Weffc++ -fopenmp -O3 -DNDEBUG -DEIGEN_NO_DEBUG -DWITH_OPENMP=ON -I $HOME/qpp/include -I $HOME/qpp/qasmtools/include grover.cpp -o my_qpp_grover\n",
    "!./my_qpp_grover"
   ]
  },
  {
   "cell_type": "code",
   "execution_count": 15,
   "id": "4fc73898-7c07-4a88-bcf7-01ae62b205b5",
   "metadata": {},
   "outputs": [
    {
     "name": "stdout",
     "output_type": "stream",
     "text": [
      ">> Grover on n = 13 qubits\n",
      ">> Database size: 8192\n",
      ">> Marked state: 4386 -> [1 0 0 0 1 0 0 1 0 0 0 1 0]\n",
      ">> We run 72 queries\n",
      ">> Probability of the marked state: 0.999022\n",
      ">> Let's sample...\n",
      ">> Hooray, we obtained the correct result: 4386 -> [1 0 0 0 1 0 0 1 0 0 0 1 0]\n",
      ">> Run time: 11.1143 seconds\n"
     ]
    }
   ],
   "source": [
    "!./my_qpp_grover"
   ]
  }
 ],
 "metadata": {
  "kernelspec": {
   "display_name": "Python 3",
   "language": "python",
   "name": "python3"
  },
  "language_info": {
   "codemirror_mode": {
    "name": "ipython",
    "version": 3
   },
   "file_extension": ".py",
   "mimetype": "text/x-python",
   "name": "python",
   "nbconvert_exporter": "python",
   "pygments_lexer": "ipython3",
   "version": "3.8.12"
  }
 },
 "nbformat": 4,
 "nbformat_minor": 5
}
