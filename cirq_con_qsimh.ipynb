{
 "cells": [
  {
   "cell_type": "code",
   "execution_count": null,
   "id": "9a934c57-c37a-40b0-a5c4-16f61745e238",
   "metadata": {},
   "outputs": [],
   "source": [
    "# Extraido de https://quantumai.google/qsim/tutorials/multinode"
   ]
  },
  {
   "cell_type": "code",
   "execution_count": 1,
   "id": "658d0045-5ce8-4d60-880b-085672d773be",
   "metadata": {},
   "outputs": [
    {
     "name": "stdout",
     "output_type": "stream",
     "text": [
      "Cloning into 'qsim'...\n",
      "remote: Enumerating objects: 6840, done.\u001b[K\n",
      "remote: Counting objects: 100% (453/453), done.\u001b[K\n",
      "remote: Compressing objects: 100% (327/327), done.\u001b[K\n",
      "remote: Total 6840 (delta 256), reused 219 (delta 113), pack-reused 6387\u001b[K\n",
      "Receiving objects: 100% (6840/6840), 5.86 MiB | 12.22 MiB/s, done.\n",
      "Resolving deltas: 100% (4540/4540), done.\n"
     ]
    }
   ],
   "source": [
    "!git clone https://github.com/quantumlib/qsim.git"
   ]
  },
  {
   "cell_type": "code",
   "execution_count": 1,
   "id": "8e14cb1f-70c0-4c7d-99ea-eed5dcf2576a",
   "metadata": {},
   "outputs": [
    {
     "name": "stdout",
     "output_type": "stream",
     "text": [
      "/home/ubuntu/qsim/docs/tutorials/multinode\n"
     ]
    },
    {
     "data": {
      "text/plain": [
       "'/home/ubuntu/qsim/docs/tutorials/multinode'"
      ]
     },
     "execution_count": 1,
     "metadata": {},
     "output_type": "execute_result"
    }
   ],
   "source": [
    "%cd /home/ubuntu/qsim/docs/tutorials/multinode\n",
    "%pwd"
   ]
  },
  {
   "cell_type": "code",
   "execution_count": 4,
   "id": "8982a326-4edb-4dd8-a0e7-2698279ef6a4",
   "metadata": {},
   "outputs": [
    {
     "name": "stdout",
     "output_type": "stream",
     "text": [
      "Submitting job(s).\n",
      "1 job(s) submitted to cluster 2.\n"
     ]
    }
   ],
   "source": [
    "!condor_submit noiseless.sub "
   ]
  },
  {
   "cell_type": "code",
   "execution_count": 7,
   "id": "8d7c7a32-adfd-4f6b-84a9-8d7a4d5e2dc0",
   "metadata": {
    "scrolled": true,
    "tags": []
   },
   "outputs": [
    {
     "name": "stdout",
     "output_type": "stream",
     "text": [
      "Reading package lists... Done\n",
      "Building dependency tree       \n",
      "Reading state information... Done\n",
      "The following additional packages will be installed:\n",
      "  libexpat1-dev libpython3-dev libpython3.8-dev python-pip-whl python3-dev\n",
      "  python3-wheel python3.8-dev zlib1g-dev\n",
      "The following NEW packages will be installed:\n",
      "  libexpat1-dev libpython3-dev libpython3.8-dev python-pip-whl python3-dev\n",
      "  python3-pip python3-wheel python3.8-dev zlib1g-dev\n",
      "0 upgraded, 9 newly installed, 0 to remove and 11 not upgraded.\n",
      "Need to get 6806 kB of archives.\n",
      "After this operation, 25.6 MB of additional disk space will be used.\n",
      "Get:1 http://eu-west-1.ec2.archive.ubuntu.com/ubuntu focal-updates/main amd64 libexpat1-dev amd64 2.2.9-1ubuntu0.4 [117 kB]\n",
      "Get:2 http://eu-west-1.ec2.archive.ubuntu.com/ubuntu focal-updates/main amd64 libpython3.8-dev amd64 3.8.10-0ubuntu1~20.04.4 [3952 kB]\n",
      "Get:3 http://eu-west-1.ec2.archive.ubuntu.com/ubuntu focal/main amd64 libpython3-dev amd64 3.8.2-0ubuntu2 [7236 B]\n",
      "Get:4 http://eu-west-1.ec2.archive.ubuntu.com/ubuntu focal-updates/universe amd64 python-pip-whl all 20.0.2-5ubuntu1.6 [1805 kB]\n",
      "Get:5 http://eu-west-1.ec2.archive.ubuntu.com/ubuntu focal-updates/main amd64 zlib1g-dev amd64 1:1.2.11.dfsg-2ubuntu1.3 [155 kB]\n",
      "Get:6 http://eu-west-1.ec2.archive.ubuntu.com/ubuntu focal-updates/main amd64 python3.8-dev amd64 3.8.10-0ubuntu1~20.04.4 [514 kB]\n",
      "Get:7 http://eu-west-1.ec2.archive.ubuntu.com/ubuntu focal/main amd64 python3-dev amd64 3.8.2-0ubuntu2 [1212 B]\n",
      "Get:8 http://eu-west-1.ec2.archive.ubuntu.com/ubuntu focal/universe amd64 python3-wheel all 0.34.2-1 [23.8 kB]\n",
      "Get:9 http://eu-west-1.ec2.archive.ubuntu.com/ubuntu focal-updates/universe amd64 python3-pip all 20.0.2-5ubuntu1.6 [231 kB]\n",
      "Fetched 6806 kB in 0s (52.9 MB/s)     \n",
      "Selecting previously unselected package libexpat1-dev:amd64.\n",
      "(Reading database ... 104258 files and directories currently installed.)\n",
      "Preparing to unpack .../0-libexpat1-dev_2.2.9-1ubuntu0.4_amd64.deb ...\n",
      "Unpacking libexpat1-dev:amd64 (2.2.9-1ubuntu0.4) ...\n",
      "Selecting previously unselected package libpython3.8-dev:amd64.\n",
      "Preparing to unpack .../1-libpython3.8-dev_3.8.10-0ubuntu1~20.04.4_amd64.deb ...\n",
      "Unpacking libpython3.8-dev:amd64 (3.8.10-0ubuntu1~20.04.4) ...\n",
      "Selecting previously unselected package libpython3-dev:amd64.\n",
      "Preparing to unpack .../2-libpython3-dev_3.8.2-0ubuntu2_amd64.deb ...\n",
      "Unpacking libpython3-dev:amd64 (3.8.2-0ubuntu2) ...\n",
      "Selecting previously unselected package python-pip-whl.\n",
      "Preparing to unpack .../3-python-pip-whl_20.0.2-5ubuntu1.6_all.deb ...\n",
      "Unpacking python-pip-whl (20.0.2-5ubuntu1.6) ...\n",
      "Selecting previously unselected package zlib1g-dev:amd64.\n",
      "Preparing to unpack .../4-zlib1g-dev_1%3a1.2.11.dfsg-2ubuntu1.3_amd64.deb ...\n",
      "Unpacking zlib1g-dev:amd64 (1:1.2.11.dfsg-2ubuntu1.3) ...\n",
      "Selecting previously unselected package python3.8-dev.\n",
      "Preparing to unpack .../5-python3.8-dev_3.8.10-0ubuntu1~20.04.4_amd64.deb ...\n",
      "Unpacking python3.8-dev (3.8.10-0ubuntu1~20.04.4) ...\n",
      "Selecting previously unselected package python3-dev.\n",
      "Preparing to unpack .../6-python3-dev_3.8.2-0ubuntu2_amd64.deb ...\n",
      "Unpacking python3-dev (3.8.2-0ubuntu2) ...\n",
      "Selecting previously unselected package python3-wheel.\n",
      "Preparing to unpack .../7-python3-wheel_0.34.2-1_all.deb ...\n",
      "Unpacking python3-wheel (0.34.2-1) ...\n",
      "Selecting previously unselected package python3-pip.\n",
      "Preparing to unpack .../8-python3-pip_20.0.2-5ubuntu1.6_all.deb ...\n",
      "Unpacking python3-pip (20.0.2-5ubuntu1.6) ...\n",
      "Setting up python3-wheel (0.34.2-1) ...\n",
      "Setting up libexpat1-dev:amd64 (2.2.9-1ubuntu0.4) ...\n",
      "Setting up libpython3.8-dev:amd64 (3.8.10-0ubuntu1~20.04.4) ...\n",
      "Setting up zlib1g-dev:amd64 (1:1.2.11.dfsg-2ubuntu1.3) ...\n",
      "Setting up python-pip-whl (20.0.2-5ubuntu1.6) ...\n",
      "Setting up libpython3-dev:amd64 (3.8.2-0ubuntu2) ...\n",
      "Setting up python3-pip (20.0.2-5ubuntu1.6) ...\n",
      "Setting up python3.8-dev (3.8.10-0ubuntu1~20.04.4) ...\n",
      "Setting up python3-dev (3.8.2-0ubuntu2) ...\n",
      "Processing triggers for man-db (2.9.1-1) ...\n",
      "Collecting qsimcirq\n",
      "  Using cached qsimcirq-0.12.1-cp38-cp38-manylinux2014_x86_64.whl (1.4 MB)\n",
      "Collecting cirq\n",
      "  Using cached cirq-0.14.1-py3-none-any.whl (7.8 kB)\n",
      "Collecting numpy~=1.16\n",
      "  Using cached numpy-1.22.3-cp38-cp38-manylinux_2_17_x86_64.manylinux2014_x86_64.whl (16.8 MB)\n",
      "Collecting typing-extensions\n",
      "  Downloading typing_extensions-4.2.0-py3-none-any.whl (24 kB)\n",
      "Collecting cirq-core\n",
      "  Using cached cirq_core-0.14.1-py3-none-any.whl (1.8 MB)\n",
      "Collecting pybind11\n",
      "  Using cached pybind11-2.9.2-py2.py3-none-any.whl (213 kB)\n",
      "Collecting absl-py\n",
      "  Using cached absl_py-1.0.0-py3-none-any.whl (126 kB)\n",
      "Collecting cirq-web==0.14.1\n",
      "  Using cached cirq_web-0.14.1-py3-none-any.whl (593 kB)\n",
      "Collecting cirq-pasqal==0.14.1\n",
      "  Using cached cirq_pasqal-0.14.1-py3-none-any.whl (30 kB)\n",
      "Collecting cirq-rigetti==0.14.1\n",
      "  Using cached cirq_rigetti-0.14.1-py3-none-any.whl (56 kB)\n",
      "Collecting cirq-google==0.14.1\n",
      "  Using cached cirq_google-0.14.1-py3-none-any.whl (541 kB)\n",
      "Collecting cirq-aqt==0.14.1\n",
      "  Using cached cirq_aqt-0.14.1-py3-none-any.whl (19 kB)\n",
      "Collecting cirq-ionq==0.14.1\n",
      "  Using cached cirq_ionq-0.14.1-py3-none-any.whl (48 kB)\n",
      "Collecting matplotlib~=3.0\n",
      "  Using cached matplotlib-3.5.1-cp38-cp38-manylinux_2_5_x86_64.manylinux1_x86_64.whl (11.3 MB)\n",
      "Collecting scipy\n",
      "  Using cached scipy-1.8.0-cp38-cp38-manylinux_2_17_x86_64.manylinux2014_x86_64.whl (41.6 MB)\n",
      "Collecting pandas\n",
      "  Using cached pandas-1.4.2-cp38-cp38-manylinux_2_17_x86_64.manylinux2014_x86_64.whl (11.7 MB)\n",
      "Collecting duet~=0.2.0\n",
      "  Using cached duet-0.2.5-py3-none-any.whl (28 kB)\n",
      "Collecting networkx~=2.4\n",
      "  Using cached networkx-2.8-py3-none-any.whl (2.0 MB)\n",
      "Collecting sympy<1.10\n",
      "  Using cached sympy-1.9-py3-none-any.whl (6.2 MB)\n",
      "Collecting sortedcontainers~=2.0\n",
      "  Using cached sortedcontainers-2.4.0-py2.py3-none-any.whl (29 kB)\n",
      "Collecting tqdm\n",
      "  Downloading tqdm-4.64.0-py2.py3-none-any.whl (78 kB)\n",
      "\u001b[K     |████████████████████████████████| 78 kB 8.1 MB/s  eta 0:00:01\n",
      "\u001b[?25hRequirement already satisfied: six in /usr/lib/python3/dist-packages (from absl-py->qsimcirq) (1.14.0)\n",
      "Requirement already satisfied: requests~=2.18 in /usr/lib/python3/dist-packages (from cirq-pasqal==0.14.1->cirq) (2.22.0)\n",
      "Collecting h11~=0.9.0\n",
      "  Using cached h11-0.9.0-py2.py3-none-any.whl (53 kB)\n",
      "Collecting rfc3986~=1.5.0\n",
      "  Using cached rfc3986-1.5.0-py2.py3-none-any.whl (31 kB)\n",
      "Collecting idna~=2.10\n",
      "  Using cached idna-2.10-py2.py3-none-any.whl (58 kB)\n",
      "Collecting rfc3339~=6.2\n",
      "  Using cached rfc3339-6.2-py3-none-any.whl (5.5 kB)\n",
      "Processing /home/ubuntu/.cache/pip/wheels/c4/a7/48/0a434133f6d56e878ca511c0e6c38326907c0792f67b476e56/retrying-1.3.3-py3-none-any.whl\n",
      "Collecting httpx~=0.15.5\n",
      "  Using cached httpx-0.15.5-py3-none-any.whl (65 kB)\n",
      "Requirement already satisfied: pyjwt~=1.7.1 in /usr/lib/python3/dist-packages (from cirq-rigetti==0.14.1->cirq) (1.7.1)\n",
      "Collecting certifi~=2021.5.30\n",
      "  Using cached certifi-2021.5.30-py2.py3-none-any.whl (145 kB)\n",
      "Collecting attrs~=20.3.0\n",
      "  Using cached attrs-20.3.0-py2.py3-none-any.whl (49 kB)\n",
      "Collecting pydantic~=1.8.2\n",
      "  Using cached pydantic-1.8.2-cp38-cp38-manylinux2014_x86_64.whl (13.7 MB)\n",
      "Collecting httpcore~=0.11.1\n",
      "  Using cached httpcore-0.11.1-py3-none-any.whl (52 kB)\n",
      "Collecting sniffio~=1.2.0\n",
      "  Downloading sniffio-1.2.0-py3-none-any.whl (10 kB)\n",
      "Collecting pyquil~=3.0.0; python_version >= \"3.7\"\n",
      "  Using cached pyquil-3.0.1-py3-none-any.whl (220 kB)\n",
      "Collecting toml~=0.10.2\n",
      "  Using cached toml-0.10.2-py2.py3-none-any.whl (16 kB)\n",
      "Collecting qcs-api-client~=0.8.0\n",
      "  Using cached qcs_api_client-0.8.0-py3-none-any.whl (97 kB)\n",
      "Collecting iso8601~=0.1.14\n",
      "  Using cached iso8601-0.1.16-py2.py3-none-any.whl (10 kB)\n",
      "Collecting python-dateutil~=2.8.1\n",
      "  Downloading python_dateutil-2.8.2-py2.py3-none-any.whl (247 kB)\n",
      "\u001b[K     |████████████████████████████████| 247 kB 65.6 MB/s eta 0:00:01\n",
      "\u001b[?25hCollecting google-api-core[grpc]<2.0.0dev,>=1.14.0\n",
      "  Using cached google_api_core-1.31.5-py2.py3-none-any.whl (93 kB)\n",
      "Collecting protobuf>=3.13.0\n",
      "  Using cached protobuf-3.20.0-cp38-cp38-manylinux_2_5_x86_64.manylinux1_x86_64.whl (1.0 MB)\n",
      "Collecting pyparsing>=2.2.1\n",
      "  Downloading pyparsing-3.0.8-py3-none-any.whl (98 kB)\n",
      "\u001b[K     |████████████████████████████████| 98 kB 11.7 MB/s eta 0:00:01\n",
      "\u001b[?25hCollecting kiwisolver>=1.0.1\n",
      "  Using cached kiwisolver-1.4.2-cp38-cp38-manylinux_2_5_x86_64.manylinux1_x86_64.whl (1.2 MB)\n",
      "Collecting cycler>=0.10\n",
      "  Using cached cycler-0.11.0-py3-none-any.whl (6.4 kB)\n",
      "Collecting pillow>=6.2.0\n",
      "  Using cached Pillow-9.1.0-cp38-cp38-manylinux_2_17_x86_64.manylinux2014_x86_64.whl (4.3 MB)\n",
      "Collecting fonttools>=4.22.0\n",
      "  Using cached fonttools-4.32.0-py3-none-any.whl (900 kB)\n",
      "Collecting packaging>=20.0\n",
      "  Downloading packaging-21.3-py3-none-any.whl (40 kB)\n",
      "\u001b[K     |████████████████████████████████| 40 kB 9.4 MB/s  eta 0:00:01\n",
      "\u001b[?25hCollecting pytz>=2020.1\n",
      "  Downloading pytz-2022.1-py2.py3-none-any.whl (503 kB)\n",
      "\u001b[K     |████████████████████████████████| 503 kB 65.9 MB/s eta 0:00:01\n",
      "\u001b[?25hCollecting mpmath>=0.19\n",
      "  Using cached mpmath-1.2.1-py3-none-any.whl (532 kB)\n",
      "Processing /home/ubuntu/.cache/pip/wheels/34/cb/6c/4df359c2a3f0a1af4cccae6392bee423bb5aff530103de3538/lark-0.11.3-py2.py3-none-any.whl\n",
      "Collecting retry<0.10.0,>=0.9.2\n",
      "  Using cached retry-0.9.2-py2.py3-none-any.whl (8.0 kB)\n",
      "Processing /home/ubuntu/.cache/pip/wheels/aa/b7/02/28316b5857a90af7715a47aeb9f8be4377a124f29cb5f3f8f7/rpcq-3.10.0-py3-none-any.whl\n",
      "Collecting googleapis-common-protos<2.0dev,>=1.6.0\n",
      "  Using cached googleapis_common_protos-1.56.0-py2.py3-none-any.whl (241 kB)\n",
      "Requirement already satisfied: setuptools>=40.3.0 in /usr/lib/python3/dist-packages (from google-api-core[grpc]<2.0.0dev,>=1.14.0->cirq-google==0.14.1->cirq) (45.2.0)\n",
      "Collecting google-auth<2.0dev,>=1.25.0\n",
      "  Using cached google_auth-1.35.0-py2.py3-none-any.whl (152 kB)\n",
      "Collecting grpcio<2.0dev,>=1.29.0; extra == \"grpc\"\n",
      "  Using cached grpcio-1.44.0-cp38-cp38-manylinux_2_17_x86_64.manylinux2014_x86_64.whl (4.3 MB)\n",
      "Collecting py<2.0.0,>=1.4.26\n",
      "  Using cached py-1.11.0-py2.py3-none-any.whl (98 kB)\n",
      "Collecting decorator>=3.4.2\n",
      "  Downloading decorator-5.1.1-py3-none-any.whl (9.1 kB)\n",
      "Collecting python-rapidjson\n",
      "  Using cached python_rapidjson-1.6-cp38-cp38-manylinux_2_17_x86_64.manylinux2014_x86_64.whl (1.6 MB)\n",
      "Processing /home/ubuntu/.cache/pip/wheels/5d/f2/04/0d19c10080b996bef17c908a6243e6e65d8da1a4094a3f604d/msgpack-0.6.2-cp38-cp38-linux_x86_64.whl\n",
      "Collecting pyzmq>=17\n",
      "  Downloading pyzmq-22.3.0-cp38-cp38-manylinux_2_12_x86_64.manylinux2010_x86_64.whl (1.1 MB)\n",
      "\u001b[K     |████████████████████████████████| 1.1 MB 37.1 MB/s eta 0:00:01\n",
      "\u001b[?25hCollecting ruamel.yaml\n",
      "  Using cached ruamel.yaml-0.17.21-py3-none-any.whl (109 kB)\n",
      "Requirement already satisfied: pyasn1-modules>=0.2.1 in /usr/lib/python3/dist-packages (from google-auth<2.0dev,>=1.25.0->google-api-core[grpc]<2.0.0dev,>=1.14.0->cirq-google==0.14.1->cirq) (0.2.1)\n",
      "Collecting rsa<5,>=3.1.4; python_version >= \"3.6\"\n",
      "  Using cached rsa-4.8-py3-none-any.whl (39 kB)\n",
      "Collecting cachetools<5.0,>=2.0.0\n",
      "  Using cached cachetools-4.2.4-py3-none-any.whl (10 kB)\n",
      "Collecting ruamel.yaml.clib>=0.2.6; platform_python_implementation == \"CPython\" and python_version < \"3.11\"\n",
      "  Using cached ruamel.yaml.clib-0.2.6-cp38-cp38-manylinux1_x86_64.whl (570 kB)\n",
      "Requirement already satisfied: pyasn1>=0.1.3 in /usr/lib/python3/dist-packages (from rsa<5,>=3.1.4; python_version >= \"3.6\"->google-auth<2.0dev,>=1.25.0->google-api-core[grpc]<2.0.0dev,>=1.14.0->cirq-google==0.14.1->cirq) (0.4.2)\n",
      "\u001b[31mERROR: cirq-rigetti 0.14.1 has requirement six~=1.16.0, but you'll have six 1.14.0 which is incompatible.\u001b[0m\n",
      "Installing collected packages: numpy, typing-extensions, pyparsing, kiwisolver, python-dateutil, cycler, pillow, fonttools, packaging, matplotlib, scipy, pytz, pandas, duet, networkx, mpmath, sympy, sortedcontainers, tqdm, cirq-core, pybind11, absl-py, qsimcirq, cirq-web, cirq-pasqal, h11, rfc3986, idna, rfc3339, retrying, sniffio, httpcore, certifi, httpx, attrs, pydantic, lark, py, decorator, retry, toml, iso8601, qcs-api-client, python-rapidjson, msgpack, pyzmq, ruamel.yaml.clib, ruamel.yaml, rpcq, pyquil, cirq-rigetti, protobuf, googleapis-common-protos, rsa, cachetools, google-auth, grpcio, google-api-core, cirq-google, cirq-aqt, cirq-ionq, cirq\n",
      "\u001b[33m  WARNING: The scripts f2py, f2py3 and f2py3.8 are installed in '/home/ubuntu/.local/bin' which is not on PATH.\n",
      "  Consider adding this directory to PATH or, if you prefer to suppress this warning, use --no-warn-script-location.\u001b[0m\n",
      "\u001b[33m  WARNING: The scripts fonttools, pyftmerge, pyftsubset and ttx are installed in '/home/ubuntu/.local/bin' which is not on PATH.\n",
      "  Consider adding this directory to PATH or, if you prefer to suppress this warning, use --no-warn-script-location.\u001b[0m\n",
      "\u001b[33m  WARNING: The script isympy is installed in '/home/ubuntu/.local/bin' which is not on PATH.\n",
      "  Consider adding this directory to PATH or, if you prefer to suppress this warning, use --no-warn-script-location.\u001b[0m\n",
      "\u001b[33m  WARNING: The script tqdm is installed in '/home/ubuntu/.local/bin' which is not on PATH.\n",
      "  Consider adding this directory to PATH or, if you prefer to suppress this warning, use --no-warn-script-location.\u001b[0m\n",
      "\u001b[33m  WARNING: The script pybind11-config is installed in '/home/ubuntu/.local/bin' which is not on PATH.\n",
      "  Consider adding this directory to PATH or, if you prefer to suppress this warning, use --no-warn-script-location.\u001b[0m\n",
      "\u001b[33m  WARNING: The scripts pyrsa-decrypt, pyrsa-encrypt, pyrsa-keygen, pyrsa-priv2pub, pyrsa-sign and pyrsa-verify are installed in '/home/ubuntu/.local/bin' which is not on PATH.\n",
      "  Consider adding this directory to PATH or, if you prefer to suppress this warning, use --no-warn-script-location.\u001b[0m\n",
      "Successfully installed absl-py-1.0.0 attrs-20.3.0 cachetools-4.2.4 certifi-2021.5.30 cirq-0.14.1 cirq-aqt-0.14.1 cirq-core-0.14.1 cirq-google-0.14.1 cirq-ionq-0.14.1 cirq-pasqal-0.14.1 cirq-rigetti-0.14.1 cirq-web-0.14.1 cycler-0.11.0 decorator-5.1.1 duet-0.2.5 fonttools-4.32.0 google-api-core-1.31.5 google-auth-1.35.0 googleapis-common-protos-1.56.0 grpcio-1.44.0 h11-0.9.0 httpcore-0.11.1 httpx-0.15.5 idna-2.10 iso8601-0.1.16 kiwisolver-1.4.2 lark-0.11.3 matplotlib-3.5.1 mpmath-1.2.1 msgpack-0.6.2 networkx-2.8 numpy-1.22.3 packaging-21.3 pandas-1.4.2 pillow-9.1.0 protobuf-3.20.0 py-1.11.0 pybind11-2.9.2 pydantic-1.8.2 pyparsing-3.0.8 pyquil-3.0.1 python-dateutil-2.8.2 python-rapidjson-1.6 pytz-2022.1 pyzmq-22.3.0 qcs-api-client-0.8.0 qsimcirq-0.12.1 retry-0.9.2 retrying-1.3.3 rfc3339-6.2 rfc3986-1.5.0 rpcq-3.10.0 rsa-4.8 ruamel.yaml-0.17.21 ruamel.yaml.clib-0.2.6 scipy-1.8.0 sniffio-1.2.0 sortedcontainers-2.4.0 sympy-1.9 toml-0.10.2 tqdm-4.64.0 typing-extensions-4.2.0\n"
     ]
    }
   ],
   "source": [
    "!sudo apt-get install python3-pip -y\n",
    "!/usr/bin/python3 -m pip install qsimcirq cirq"
   ]
  },
  {
   "cell_type": "code",
   "execution_count": 9,
   "id": "7a325a9a-447f-456a-9969-f0488ead5a68",
   "metadata": {},
   "outputs": [
    {
     "name": "stdout",
     "output_type": "stream",
     "text": [
      "Name                                                 OpSys      Arch   State   \n",
      "\n",
      "slot1@i-0386b65e56fdb738d.eu-west-1.compute.internal LINUX      X86_64 Unclaime\n",
      "slot2@i-0386b65e56fdb738d.eu-west-1.compute.internal LINUX      X86_64 Unclaime\n",
      "slot1@i-0dd1ae336e253b0d6.eu-west-1.compute.internal LINUX      X86_64 Unclaime\n",
      "slot2@i-0dd1ae336e253b0d6.eu-west-1.compute.internal LINUX      X86_64 Unclaime\n",
      "slot1@i-0e0ca4d37f4fd4ab7.eu-west-1.compute.internal LINUX      X86_64 Unclaime\n",
      "slot2@i-0e0ca4d37f4fd4ab7.eu-west-1.compute.internal LINUX      X86_64 Unclaime\n",
      "\n",
      "                     Total Owner Claimed Unclaimed Matched Preempting Backfill  Drain\n",
      "\n",
      "        X86_64/LINUX     6     0       0         6       0          0        0      0\n",
      "\n",
      "               Total     6     0       0         6       0          0        0      0\n"
     ]
    }
   ],
   "source": [
    "!condor_status"
   ]
  },
  {
   "cell_type": "code",
   "execution_count": 8,
   "id": "0cff282e-bf8f-4576-ad19-874966ec54c6",
   "metadata": {},
   "outputs": [
    {
     "name": "stdout",
     "output_type": "stream",
     "text": [
      "Counter({3: 513, 0: 487})\n",
      "Counter({3: 523, 0: 477})\n"
     ]
    }
   ],
   "source": [
    "!mpiexec -np 2 -f host_file -env OMP_NUM_THREADS=1 ./test1"
   ]
  },
  {
   "cell_type": "code",
   "execution_count": null,
   "id": "752a952e-b166-43be-979d-a2af1d7ec82c",
   "metadata": {},
   "outputs": [],
   "source": [
    "!scp "
   ]
  }
 ],
 "metadata": {
  "kernelspec": {
   "display_name": "Python 3",
   "language": "python",
   "name": "python3"
  },
  "language_info": {
   "codemirror_mode": {
    "name": "ipython",
    "version": 3
   },
   "file_extension": ".py",
   "mimetype": "text/x-python",
   "name": "python",
   "nbconvert_exporter": "python",
   "pygments_lexer": "ipython3",
   "version": "3.8.12"
  }
 },
 "nbformat": 4,
 "nbformat_minor": 5
}
