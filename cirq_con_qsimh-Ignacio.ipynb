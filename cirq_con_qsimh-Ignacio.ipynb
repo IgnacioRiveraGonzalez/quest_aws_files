{
 "cells": [
  {
   "cell_type": "code",
   "execution_count": null,
   "id": "9a934c57-c37a-40b0-a5c4-16f61745e238",
   "metadata": {},
   "outputs": [],
   "source": [
    "# Extraido de https://quantumai.google/qsim/tutorials/multinode"
   ]
  },
  {
   "cell_type": "code",
   "execution_count": 1,
   "id": "658d0045-5ce8-4d60-880b-085672d773be",
   "metadata": {},
   "outputs": [
    {
     "name": "stdout",
     "output_type": "stream",
     "text": [
      "fatal: destination path 'qsim' already exists and is not an empty directory.\n"
     ]
    }
   ],
   "source": [
    "!git clone https://github.com/quantumlib/qsim.git"
   ]
  },
  {
   "cell_type": "code",
   "execution_count": 1,
   "id": "8e14cb1f-70c0-4c7d-99ea-eed5dcf2576a",
   "metadata": {},
   "outputs": [
    {
     "name": "stdout",
     "output_type": "stream",
     "text": [
      "/home/ubuntu/qsim/docs/tutorials/multinode\n"
     ]
    },
    {
     "data": {
      "text/plain": [
       "'/home/ubuntu/qsim/docs/tutorials/multinode'"
      ]
     },
     "execution_count": 1,
     "metadata": {},
     "output_type": "execute_result"
    }
   ],
   "source": [
    "%cd /home/ubuntu/qsim/docs/tutorials/multinode\n",
    "%pwd"
   ]
  },
  {
   "cell_type": "code",
   "execution_count": 11,
   "id": "8982a326-4edb-4dd8-a0e7-2698279ef6a4",
   "metadata": {},
   "outputs": [
    {
     "name": "stdout",
     "output_type": "stream",
     "text": [
      "Submitting job(s).\n",
      "1 job(s) submitted to cluster 7.\n"
     ]
    }
   ],
   "source": [
    "!condor_submit noiseless.sub"
   ]
  },
  {
   "cell_type": "code",
   "execution_count": 4,
   "id": "8d7c7a32-adfd-4f6b-84a9-8d7a4d5e2dc0",
   "metadata": {
    "scrolled": true,
    "tags": []
   },
   "outputs": [
    {
     "name": "stdout",
     "output_type": "stream",
     "text": [
      "Reading package lists... Done\n",
      "Building dependency tree       \n",
      "Reading state information... Done\n",
      "python3-pip is already the newest version (20.0.2-5ubuntu1.6).\n",
      "0 upgraded, 0 newly installed, 0 to remove and 11 not upgraded.\n",
      "Requirement already satisfied: qsimcirq in /home/ubuntu/.local/lib/python3.8/site-packages (0.12.1)\n",
      "Requirement already satisfied: cirq in /home/ubuntu/.local/lib/python3.8/site-packages (0.14.1)\n",
      "Requirement already satisfied: typing-extensions in /home/ubuntu/.local/lib/python3.8/site-packages (from qsimcirq) (4.2.0)\n",
      "Requirement already satisfied: cirq-core in /home/ubuntu/.local/lib/python3.8/site-packages (from qsimcirq) (0.14.1)\n",
      "Requirement already satisfied: absl-py in /home/ubuntu/.local/lib/python3.8/site-packages (from qsimcirq) (1.0.0)\n",
      "Requirement already satisfied: pybind11 in /home/ubuntu/.local/lib/python3.8/site-packages (from qsimcirq) (2.9.2)\n",
      "Requirement already satisfied: numpy~=1.16 in /home/ubuntu/.local/lib/python3.8/site-packages (from qsimcirq) (1.22.3)\n",
      "Requirement already satisfied: cirq-pasqal==0.14.1 in /home/ubuntu/.local/lib/python3.8/site-packages (from cirq) (0.14.1)\n",
      "Requirement already satisfied: cirq-web==0.14.1 in /home/ubuntu/.local/lib/python3.8/site-packages (from cirq) (0.14.1)\n",
      "Requirement already satisfied: cirq-aqt==0.14.1 in /home/ubuntu/.local/lib/python3.8/site-packages (from cirq) (0.14.1)\n",
      "Requirement already satisfied: cirq-google==0.14.1 in /home/ubuntu/.local/lib/python3.8/site-packages (from cirq) (0.14.1)\n",
      "Requirement already satisfied: cirq-rigetti==0.14.1 in /home/ubuntu/.local/lib/python3.8/site-packages (from cirq) (0.14.1)\n",
      "Requirement already satisfied: cirq-ionq==0.14.1 in /home/ubuntu/.local/lib/python3.8/site-packages (from cirq) (0.14.1)\n",
      "Requirement already satisfied: networkx~=2.4 in /home/ubuntu/.local/lib/python3.8/site-packages (from cirq-core->qsimcirq) (2.8)\n",
      "Requirement already satisfied: pandas in /home/ubuntu/.local/lib/python3.8/site-packages (from cirq-core->qsimcirq) (1.4.2)\n",
      "Requirement already satisfied: sortedcontainers~=2.0 in /home/ubuntu/.local/lib/python3.8/site-packages (from cirq-core->qsimcirq) (2.4.0)\n",
      "Requirement already satisfied: tqdm in /home/ubuntu/.local/lib/python3.8/site-packages (from cirq-core->qsimcirq) (4.64.0)\n",
      "Requirement already satisfied: matplotlib~=3.0 in /home/ubuntu/.local/lib/python3.8/site-packages (from cirq-core->qsimcirq) (3.5.1)\n",
      "Requirement already satisfied: scipy in /home/ubuntu/.local/lib/python3.8/site-packages (from cirq-core->qsimcirq) (1.8.0)\n",
      "Requirement already satisfied: duet~=0.2.0 in /home/ubuntu/.local/lib/python3.8/site-packages (from cirq-core->qsimcirq) (0.2.5)\n",
      "Requirement already satisfied: sympy<1.10 in /home/ubuntu/.local/lib/python3.8/site-packages (from cirq-core->qsimcirq) (1.9)\n",
      "Requirement already satisfied: six in /usr/lib/python3/dist-packages (from absl-py->qsimcirq) (1.14.0)\n",
      "Requirement already satisfied: requests~=2.18 in /usr/lib/python3/dist-packages (from cirq-pasqal==0.14.1->cirq) (2.22.0)\n",
      "Requirement already satisfied: protobuf>=3.13.0 in /home/ubuntu/.local/lib/python3.8/site-packages (from cirq-google==0.14.1->cirq) (3.20.0)\n",
      "Requirement already satisfied: google-api-core[grpc]<2.0.0dev,>=1.14.0 in /home/ubuntu/.local/lib/python3.8/site-packages (from cirq-google==0.14.1->cirq) (1.31.5)\n",
      "Requirement already satisfied: pyquil~=3.0.0; python_version >= \"3.7\" in /home/ubuntu/.local/lib/python3.8/site-packages (from cirq-rigetti==0.14.1->cirq) (3.0.1)\n",
      "Requirement already satisfied: certifi~=2021.5.30 in /home/ubuntu/.local/lib/python3.8/site-packages (from cirq-rigetti==0.14.1->cirq) (2021.5.30)\n",
      "Requirement already satisfied: sniffio~=1.2.0 in /home/ubuntu/.local/lib/python3.8/site-packages (from cirq-rigetti==0.14.1->cirq) (1.2.0)\n",
      "Requirement already satisfied: attrs~=20.3.0 in /home/ubuntu/.local/lib/python3.8/site-packages (from cirq-rigetti==0.14.1->cirq) (20.3.0)\n",
      "Requirement already satisfied: h11~=0.9.0 in /home/ubuntu/.local/lib/python3.8/site-packages (from cirq-rigetti==0.14.1->cirq) (0.9.0)\n",
      "Requirement already satisfied: httpcore~=0.11.1 in /home/ubuntu/.local/lib/python3.8/site-packages (from cirq-rigetti==0.14.1->cirq) (0.11.1)\n",
      "Requirement already satisfied: rfc3339~=6.2 in /home/ubuntu/.local/lib/python3.8/site-packages (from cirq-rigetti==0.14.1->cirq) (6.2)\n",
      "Requirement already satisfied: httpx~=0.15.5 in /home/ubuntu/.local/lib/python3.8/site-packages (from cirq-rigetti==0.14.1->cirq) (0.15.5)\n",
      "Requirement already satisfied: pydantic~=1.8.2 in /home/ubuntu/.local/lib/python3.8/site-packages (from cirq-rigetti==0.14.1->cirq) (1.8.2)\n",
      "Requirement already satisfied: retrying~=1.3.3 in /home/ubuntu/.local/lib/python3.8/site-packages (from cirq-rigetti==0.14.1->cirq) (1.3.3)\n",
      "Requirement already satisfied: pyjwt~=1.7.1 in /usr/lib/python3/dist-packages (from cirq-rigetti==0.14.1->cirq) (1.7.1)\n",
      "Requirement already satisfied: rfc3986~=1.5.0 in /home/ubuntu/.local/lib/python3.8/site-packages (from cirq-rigetti==0.14.1->cirq) (1.5.0)\n",
      "Requirement already satisfied: qcs-api-client~=0.8.0 in /home/ubuntu/.local/lib/python3.8/site-packages (from cirq-rigetti==0.14.1->cirq) (0.8.0)\n",
      "Requirement already satisfied: iso8601~=0.1.14 in /home/ubuntu/.local/lib/python3.8/site-packages (from cirq-rigetti==0.14.1->cirq) (0.1.16)\n",
      "Requirement already satisfied: python-dateutil~=2.8.1 in /home/ubuntu/.local/lib/python3.8/site-packages (from cirq-rigetti==0.14.1->cirq) (2.8.2)\n",
      "Requirement already satisfied: idna~=2.10 in /home/ubuntu/.local/lib/python3.8/site-packages (from cirq-rigetti==0.14.1->cirq) (2.10)\n",
      "Requirement already satisfied: toml~=0.10.2 in /home/ubuntu/.local/lib/python3.8/site-packages (from cirq-rigetti==0.14.1->cirq) (0.10.2)\n",
      "Requirement already satisfied: pytz>=2020.1 in /home/ubuntu/.local/lib/python3.8/site-packages (from pandas->cirq-core->qsimcirq) (2022.1)\n",
      "Requirement already satisfied: cycler>=0.10 in /home/ubuntu/.local/lib/python3.8/site-packages (from matplotlib~=3.0->cirq-core->qsimcirq) (0.11.0)\n",
      "Requirement already satisfied: fonttools>=4.22.0 in /home/ubuntu/.local/lib/python3.8/site-packages (from matplotlib~=3.0->cirq-core->qsimcirq) (4.32.0)\n",
      "Requirement already satisfied: pyparsing>=2.2.1 in /home/ubuntu/.local/lib/python3.8/site-packages (from matplotlib~=3.0->cirq-core->qsimcirq) (3.0.8)\n",
      "Requirement already satisfied: kiwisolver>=1.0.1 in /home/ubuntu/.local/lib/python3.8/site-packages (from matplotlib~=3.0->cirq-core->qsimcirq) (1.4.2)\n",
      "Requirement already satisfied: packaging>=20.0 in /home/ubuntu/.local/lib/python3.8/site-packages (from matplotlib~=3.0->cirq-core->qsimcirq) (21.3)\n",
      "Requirement already satisfied: pillow>=6.2.0 in /home/ubuntu/.local/lib/python3.8/site-packages (from matplotlib~=3.0->cirq-core->qsimcirq) (9.1.0)\n",
      "Requirement already satisfied: mpmath>=0.19 in /home/ubuntu/.local/lib/python3.8/site-packages (from sympy<1.10->cirq-core->qsimcirq) (1.2.1)\n",
      "Requirement already satisfied: google-auth<2.0dev,>=1.25.0 in /home/ubuntu/.local/lib/python3.8/site-packages (from google-api-core[grpc]<2.0.0dev,>=1.14.0->cirq-google==0.14.1->cirq) (1.35.0)\n",
      "Requirement already satisfied: setuptools>=40.3.0 in /usr/lib/python3/dist-packages (from google-api-core[grpc]<2.0.0dev,>=1.14.0->cirq-google==0.14.1->cirq) (45.2.0)\n",
      "Requirement already satisfied: googleapis-common-protos<2.0dev,>=1.6.0 in /home/ubuntu/.local/lib/python3.8/site-packages (from google-api-core[grpc]<2.0.0dev,>=1.14.0->cirq-google==0.14.1->cirq) (1.56.0)\n",
      "Requirement already satisfied: grpcio<2.0dev,>=1.29.0; extra == \"grpc\" in /home/ubuntu/.local/lib/python3.8/site-packages (from google-api-core[grpc]<2.0.0dev,>=1.14.0->cirq-google==0.14.1->cirq) (1.44.0)\n",
      "Requirement already satisfied: lark<0.12.0,>=0.11.1 in /home/ubuntu/.local/lib/python3.8/site-packages (from pyquil~=3.0.0; python_version >= \"3.7\"->cirq-rigetti==0.14.1->cirq) (0.11.3)\n",
      "Requirement already satisfied: rpcq<4.0.0,>=3.6.0 in /home/ubuntu/.local/lib/python3.8/site-packages (from pyquil~=3.0.0; python_version >= \"3.7\"->cirq-rigetti==0.14.1->cirq) (3.10.0)\n",
      "Requirement already satisfied: retry<0.10.0,>=0.9.2 in /home/ubuntu/.local/lib/python3.8/site-packages (from pyquil~=3.0.0; python_version >= \"3.7\"->cirq-rigetti==0.14.1->cirq) (0.9.2)\n",
      "Requirement already satisfied: cachetools<5.0,>=2.0.0 in /home/ubuntu/.local/lib/python3.8/site-packages (from google-auth<2.0dev,>=1.25.0->google-api-core[grpc]<2.0.0dev,>=1.14.0->cirq-google==0.14.1->cirq) (4.2.4)\n",
      "Requirement already satisfied: pyasn1-modules>=0.2.1 in /usr/lib/python3/dist-packages (from google-auth<2.0dev,>=1.25.0->google-api-core[grpc]<2.0.0dev,>=1.14.0->cirq-google==0.14.1->cirq) (0.2.1)\n",
      "Requirement already satisfied: rsa<5,>=3.1.4; python_version >= \"3.6\" in /home/ubuntu/.local/lib/python3.8/site-packages (from google-auth<2.0dev,>=1.25.0->google-api-core[grpc]<2.0.0dev,>=1.14.0->cirq-google==0.14.1->cirq) (4.8)\n",
      "Requirement already satisfied: msgpack<1.0,>=0.6 in /home/ubuntu/.local/lib/python3.8/site-packages (from rpcq<4.0.0,>=3.6.0->pyquil~=3.0.0; python_version >= \"3.7\"->cirq-rigetti==0.14.1->cirq) (0.6.2)\n",
      "Requirement already satisfied: pyzmq>=17 in /home/ubuntu/.local/lib/python3.8/site-packages (from rpcq<4.0.0,>=3.6.0->pyquil~=3.0.0; python_version >= \"3.7\"->cirq-rigetti==0.14.1->cirq) (22.3.0)\n",
      "Requirement already satisfied: ruamel.yaml in /home/ubuntu/.local/lib/python3.8/site-packages (from rpcq<4.0.0,>=3.6.0->pyquil~=3.0.0; python_version >= \"3.7\"->cirq-rigetti==0.14.1->cirq) (0.17.21)\n",
      "Requirement already satisfied: python-rapidjson in /home/ubuntu/.local/lib/python3.8/site-packages (from rpcq<4.0.0,>=3.6.0->pyquil~=3.0.0; python_version >= \"3.7\"->cirq-rigetti==0.14.1->cirq) (1.6)\n",
      "Requirement already satisfied: decorator>=3.4.2 in /home/ubuntu/.local/lib/python3.8/site-packages (from retry<0.10.0,>=0.9.2->pyquil~=3.0.0; python_version >= \"3.7\"->cirq-rigetti==0.14.1->cirq) (5.1.1)\n",
      "Requirement already satisfied: py<2.0.0,>=1.4.26 in /home/ubuntu/.local/lib/python3.8/site-packages (from retry<0.10.0,>=0.9.2->pyquil~=3.0.0; python_version >= \"3.7\"->cirq-rigetti==0.14.1->cirq) (1.11.0)\n",
      "Requirement already satisfied: pyasn1>=0.1.3 in /usr/lib/python3/dist-packages (from rsa<5,>=3.1.4; python_version >= \"3.6\"->google-auth<2.0dev,>=1.25.0->google-api-core[grpc]<2.0.0dev,>=1.14.0->cirq-google==0.14.1->cirq) (0.4.2)\n",
      "Requirement already satisfied: ruamel.yaml.clib>=0.2.6; platform_python_implementation == \"CPython\" and python_version < \"3.11\" in /home/ubuntu/.local/lib/python3.8/site-packages (from ruamel.yaml->rpcq<4.0.0,>=3.6.0->pyquil~=3.0.0; python_version >= \"3.7\"->cirq-rigetti==0.14.1->cirq) (0.2.6)\n"
     ]
    }
   ],
   "source": [
    "!sudo apt-get install python3-pip -y\n",
    "!/usr/bin/python3 -m pip install qsimcirq cirq"
   ]
  },
  {
   "cell_type": "code",
   "execution_count": 21,
   "id": "7a325a9a-447f-456a-9969-f0488ead5a68",
   "metadata": {},
   "outputs": [
    {
     "name": "stdout",
     "output_type": "stream",
     "text": [
      "Name                                                 OpSys      Arch   State   \n",
      "\n",
      "slot1@i-0386b65e56fdb738d.eu-west-1.compute.internal LINUX      X86_64 Unclaime\n",
      "slot2@i-0386b65e56fdb738d.eu-west-1.compute.internal LINUX      X86_64 Unclaime\n",
      "slot1@i-0dd1ae336e253b0d6.eu-west-1.compute.internal LINUX      X86_64 Unclaime\n",
      "slot2@i-0dd1ae336e253b0d6.eu-west-1.compute.internal LINUX      X86_64 Unclaime\n",
      "slot1@i-0e0ca4d37f4fd4ab7.eu-west-1.compute.internal LINUX      X86_64 Unclaime\n",
      "slot2@i-0e0ca4d37f4fd4ab7.eu-west-1.compute.internal LINUX      X86_64 Unclaime\n",
      "\n",
      "                     Total Owner Claimed Unclaimed Matched Preempting Backfill  Drain\n",
      "\n",
      "        X86_64/LINUX     6     0       0         6       0          0        0      0\n",
      "\n",
      "               Total     6     0       0         6       0          0        0      0\n"
     ]
    }
   ],
   "source": [
    "!condor_status"
   ]
  },
  {
   "cell_type": "code",
   "execution_count": 30,
   "id": "d7e190ce-7cf7-4ddd-b474-ab0c695a7817",
   "metadata": {},
   "outputs": [
    {
     "name": "stdout",
     "output_type": "stream",
     "text": [
      "Submitting job(s).\n",
      "1 job(s) submitted to cluster 16.\n"
     ]
    }
   ],
   "source": [
    "!condor_submit sleep.sub"
   ]
  },
  {
   "cell_type": "code",
   "execution_count": 29,
   "id": "dc54c7f9-fd35-437c-801e-262f835183c2",
   "metadata": {},
   "outputs": [],
   "source": [
    "!chmod u+x sleep.sh"
   ]
  },
  {
   "cell_type": "code",
   "execution_count": 2,
   "id": "4c311435-ad0b-490d-bc6e-7d19119a856e",
   "metadata": {},
   "outputs": [],
   "source": [
    "!chmod u+x test2.sh"
   ]
  },
  {
   "cell_type": "code",
   "execution_count": 4,
   "id": "42375dd5-869b-4072-bc9e-7081f5fead27",
   "metadata": {},
   "outputs": [
    {
     "name": "stdout",
     "output_type": "stream",
     "text": [
      "Submitting job(s)\n",
      "ERROR: Failed to connect to local queue manager\n",
      "SECMAN:2007:Failed to end classad message.\n"
     ]
    }
   ],
   "source": [
    "!condor_submit noise_ignacio.sub"
   ]
  },
  {
   "cell_type": "code",
   "execution_count": null,
   "id": "95fc186f-48dd-4d19-a6db-07954cc746d6",
   "metadata": {},
   "outputs": [],
   "source": []
  },
  {
   "cell_type": "code",
   "execution_count": null,
   "id": "745c22a7-a3c9-4b10-af71-02d59d753fad",
   "metadata": {},
   "outputs": [],
   "source": []
  }
 ],
 "metadata": {
  "kernelspec": {
   "display_name": "Python 3",
   "language": "python",
   "name": "python3"
  },
  "language_info": {
   "codemirror_mode": {
    "name": "ipython",
    "version": 3
   },
   "file_extension": ".py",
   "mimetype": "text/x-python",
   "name": "python",
   "nbconvert_exporter": "python",
   "pygments_lexer": "ipython3",
   "version": "3.8.12"
  }
 },
 "nbformat": 4,
 "nbformat_minor": 5
}
